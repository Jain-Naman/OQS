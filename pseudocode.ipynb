{
 "cells": [
  {
   "cell_type": "code",
   "execution_count": 1,
   "id": "fb824370",
   "metadata": {},
   "outputs": [],
   "source": [
    "import numpy as np\n",
    "import matplotlib.pyplot as plt"
   ]
  },
  {
   "cell_type": "code",
   "execution_count": null,
   "id": "7cbba4cb",
   "metadata": {},
   "outputs": [],
   "source": [
    "def fun1():\n",
    "    pass\n",
    "\n",
    "def fun2():\n",
    "    pass\n",
    "\n",
    "def fun3():\n",
    "    pass\n",
    "\n",
    "def fun4():\n",
    "    pass\n",
    "\n",
    "def fun5():\n",
    "    pass"
   ]
  },
  {
   "cell_type": "code",
   "execution_count": null,
   "id": "3583848d",
   "metadata": {},
   "outputs": [],
   "source": [
    "def some_function():\n",
    "    pass"
   ]
  }
 ],
 "metadata": {
  "kernelspec": {
   "display_name": ".oqs",
   "language": "python",
   "name": "python3"
  },
  "language_info": {
   "codemirror_mode": {
    "name": "ipython",
    "version": 3
   },
   "file_extension": ".py",
   "mimetype": "text/x-python",
   "name": "python",
   "nbconvert_exporter": "python",
   "pygments_lexer": "ipython3",
   "version": "3.10.12"
  }
 },
 "nbformat": 4,
 "nbformat_minor": 5
}
